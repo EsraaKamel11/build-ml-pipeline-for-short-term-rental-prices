{
 "cells": [
  {
   "cell_type": "code",
   "execution_count": 1,
   "id": "99c39fb6-ba2f-4380-b476-91c4bb84a280",
   "metadata": {},
   "outputs": [],
   "source": [
    "import wandb\n",
    "import os\n",
    "import pandas as pd\n",
    "from ydata_profiling import ProfileReport"
   ]
  },
  {
   "cell_type": "code",
   "execution_count": 2,
   "id": "4919ddaa-9e69-4aa5-95fa-fc208e11cf03",
   "metadata": {},
   "outputs": [
    {
     "name": "stderr",
     "output_type": "stream",
     "text": [
      "wandb: Using wandb-core as the SDK backend. Please refer to https://wandb.me/wandb-core for more information.\n",
      "wandb: Currently logged in as: israa-kamel811 (israa-kamel811-). Use `wandb login --relogin` to force relogin\n"
     ]
    },
    {
     "data": {
      "text/html": [
       "Tracking run with wandb version 0.18.0"
      ],
      "text/plain": [
       "<IPython.core.display.HTML object>"
      ]
     },
     "metadata": {},
     "output_type": "display_data"
    },
    {
     "data": {
      "text/html": [
       "Run data is saved locally in <code>C:\\Users\\esraa\\build-ml-pipeline-for-short-term-rental-prices\\src\\eda\\wandb\\run-20240925_150243-tprj2rwe</code>"
      ],
      "text/plain": [
       "<IPython.core.display.HTML object>"
      ]
     },
     "metadata": {},
     "output_type": "display_data"
    },
    {
     "data": {
      "text/html": [
       "Syncing run <strong><a href='https://wandb.ai/israa-kamel811-/nyc_airbnb/runs/tprj2rwe' target=\"_blank\">ruby-snow-3</a></strong> to <a href='https://wandb.ai/israa-kamel811-/nyc_airbnb' target=\"_blank\">Weights & Biases</a> (<a href='https://wandb.me/run' target=\"_blank\">docs</a>)<br/>"
      ],
      "text/plain": [
       "<IPython.core.display.HTML object>"
      ]
     },
     "metadata": {},
     "output_type": "display_data"
    },
    {
     "data": {
      "text/html": [
       " View project at <a href='https://wandb.ai/israa-kamel811-/nyc_airbnb' target=\"_blank\">https://wandb.ai/israa-kamel811-/nyc_airbnb</a>"
      ],
      "text/plain": [
       "<IPython.core.display.HTML object>"
      ]
     },
     "metadata": {},
     "output_type": "display_data"
    },
    {
     "data": {
      "text/html": [
       " View run at <a href='https://wandb.ai/israa-kamel811-/nyc_airbnb/runs/tprj2rwe' target=\"_blank\">https://wandb.ai/israa-kamel811-/nyc_airbnb/runs/tprj2rwe</a>"
      ],
      "text/plain": [
       "<IPython.core.display.HTML object>"
      ]
     },
     "metadata": {},
     "output_type": "display_data"
    },
    {
     "name": "stderr",
     "output_type": "stream",
     "text": [
      "wandb:   1 of 1 files downloaded.  \n"
     ]
    }
   ],
   "source": [
    "run = wandb.init(project=\"nyc_airbnb\", group=\"eda\", save_code=True)\n",
    "local_path = wandb.use_artifact(\"sample.csv:latest\").download()\n",
    "df = pd.read_csv(os.path.join(local_path, 'sample1.csv'))"
   ]
  },
  {
   "cell_type": "code",
   "execution_count": 3,
   "id": "a0811207-6d26-4333-8f93-21fb1ab8bd0e",
   "metadata": {},
   "outputs": [
    {
     "data": {
      "application/vnd.jupyter.widget-view+json": {
       "model_id": "4cec0d08bb9f4612b8d9cde4a7c70449",
       "version_major": 2,
       "version_minor": 0
      },
      "text/plain": [
       "Summarize dataset:   0%|          | 0/5 [00:00<?, ?it/s]"
      ]
     },
     "metadata": {},
     "output_type": "display_data"
    },
    {
     "name": "stderr",
     "output_type": "stream",
     "text": [
      "C:\\Users\\esraa\\envs\\nyc_airbnb_dev\\envs\\mlflow-a82ac904ddd0c1fd22ecadcbd3977e923c26e5c5\\lib\\site-packages\\ydata_profiling\\model\\typeset.py:125: FutureWarning: is_categorical_dtype is deprecated and will be removed in a future version. Use isinstance(dtype, CategoricalDtype) instead\n",
      "  not pdt.is_categorical_dtype(series)\n",
      "C:\\Users\\esraa\\envs\\nyc_airbnb_dev\\envs\\mlflow-a82ac904ddd0c1fd22ecadcbd3977e923c26e5c5\\lib\\site-packages\\ydata_profiling\\model\\typeset.py:125: FutureWarning: is_categorical_dtype is deprecated and will be removed in a future version. Use isinstance(dtype, CategoricalDtype) instead\n",
      "  not pdt.is_categorical_dtype(series)\n",
      "C:\\Users\\esraa\\envs\\nyc_airbnb_dev\\envs\\mlflow-a82ac904ddd0c1fd22ecadcbd3977e923c26e5c5\\lib\\site-packages\\ydata_profiling\\model\\typeset.py:125: FutureWarning: is_categorical_dtype is deprecated and will be removed in a future version. Use isinstance(dtype, CategoricalDtype) instead\n",
      "  not pdt.is_categorical_dtype(series)\n",
      "C:\\Users\\esraa\\envs\\nyc_airbnb_dev\\envs\\mlflow-a82ac904ddd0c1fd22ecadcbd3977e923c26e5c5\\lib\\site-packages\\ydata_profiling\\model\\typeset.py:125: FutureWarning: is_categorical_dtype is deprecated and will be removed in a future version. Use isinstance(dtype, CategoricalDtype) instead\n",
      "  not pdt.is_categorical_dtype(series)\n",
      "C:\\Users\\esraa\\envs\\nyc_airbnb_dev\\envs\\mlflow-a82ac904ddd0c1fd22ecadcbd3977e923c26e5c5\\lib\\site-packages\\ydata_profiling\\model\\typeset.py:125: FutureWarning: is_categorical_dtype is deprecated and will be removed in a future version. Use isinstance(dtype, CategoricalDtype) instead\n",
      "  not pdt.is_categorical_dtype(series)\n",
      "C:\\Users\\esraa\\envs\\nyc_airbnb_dev\\envs\\mlflow-a82ac904ddd0c1fd22ecadcbd3977e923c26e5c5\\lib\\site-packages\\ydata_profiling\\model\\typeset.py:125: FutureWarning: is_categorical_dtype is deprecated and will be removed in a future version. Use isinstance(dtype, CategoricalDtype) instead\n",
      "  not pdt.is_categorical_dtype(series)\n",
      "C:\\Users\\esraa\\envs\\nyc_airbnb_dev\\envs\\mlflow-a82ac904ddd0c1fd22ecadcbd3977e923c26e5c5\\lib\\site-packages\\ydata_profiling\\model\\typeset_relations.py:34: FutureWarning: is_categorical_dtype is deprecated and will be removed in a future version. Use isinstance(dtype, CategoricalDtype) instead\n",
      "  if pdt.is_categorical_dtype(series):\n",
      "C:\\Users\\esraa\\envs\\nyc_airbnb_dev\\envs\\mlflow-a82ac904ddd0c1fd22ecadcbd3977e923c26e5c5\\lib\\site-packages\\ydata_profiling\\model\\typeset_relations.py:34: FutureWarning: is_categorical_dtype is deprecated and will be removed in a future version. Use isinstance(dtype, CategoricalDtype) instead\n",
      "  if pdt.is_categorical_dtype(series):\n",
      "C:\\Users\\esraa\\envs\\nyc_airbnb_dev\\envs\\mlflow-a82ac904ddd0c1fd22ecadcbd3977e923c26e5c5\\lib\\site-packages\\ydata_profiling\\model\\typeset_relations.py:34: FutureWarning: is_categorical_dtype is deprecated and will be removed in a future version. Use isinstance(dtype, CategoricalDtype) instead\n",
      "  if pdt.is_categorical_dtype(series):\n",
      "C:\\Users\\esraa\\envs\\nyc_airbnb_dev\\envs\\mlflow-a82ac904ddd0c1fd22ecadcbd3977e923c26e5c5\\lib\\site-packages\\ydata_profiling\\model\\typeset_relations.py:34: FutureWarning: is_categorical_dtype is deprecated and will be removed in a future version. Use isinstance(dtype, CategoricalDtype) instead\n",
      "  if pdt.is_categorical_dtype(series):\n",
      "C:\\Users\\esraa\\envs\\nyc_airbnb_dev\\envs\\mlflow-a82ac904ddd0c1fd22ecadcbd3977e923c26e5c5\\lib\\site-packages\\ydata_profiling\\model\\typeset.py:125: FutureWarning: is_categorical_dtype is deprecated and will be removed in a future version. Use isinstance(dtype, CategoricalDtype) instead\n",
      "  not pdt.is_categorical_dtype(series)\n",
      "C:\\Users\\esraa\\envs\\nyc_airbnb_dev\\envs\\mlflow-a82ac904ddd0c1fd22ecadcbd3977e923c26e5c5\\lib\\site-packages\\ydata_profiling\\model\\typeset.py:125: FutureWarning: is_categorical_dtype is deprecated and will be removed in a future version. Use isinstance(dtype, CategoricalDtype) instead\n",
      "  not pdt.is_categorical_dtype(series)\n",
      "C:\\Users\\esraa\\envs\\nyc_airbnb_dev\\envs\\mlflow-a82ac904ddd0c1fd22ecadcbd3977e923c26e5c5\\lib\\site-packages\\ydata_profiling\\model\\typeset_relations.py:34: FutureWarning: is_categorical_dtype is deprecated and will be removed in a future version. Use isinstance(dtype, CategoricalDtype) instead\n",
      "  if pdt.is_categorical_dtype(series):\n",
      "C:\\Users\\esraa\\envs\\nyc_airbnb_dev\\envs\\mlflow-a82ac904ddd0c1fd22ecadcbd3977e923c26e5c5\\lib\\site-packages\\ydata_profiling\\model\\typeset.py:125: FutureWarning: is_categorical_dtype is deprecated and will be removed in a future version. Use isinstance(dtype, CategoricalDtype) instead\n",
      "  not pdt.is_categorical_dtype(series)\n",
      "C:\\Users\\esraa\\envs\\nyc_airbnb_dev\\envs\\mlflow-a82ac904ddd0c1fd22ecadcbd3977e923c26e5c5\\lib\\site-packages\\ydata_profiling\\model\\typeset_relations.py:34: FutureWarning: is_categorical_dtype is deprecated and will be removed in a future version. Use isinstance(dtype, CategoricalDtype) instead\n",
      "  if pdt.is_categorical_dtype(series):\n",
      "C:\\Users\\esraa\\envs\\nyc_airbnb_dev\\envs\\mlflow-a82ac904ddd0c1fd22ecadcbd3977e923c26e5c5\\lib\\site-packages\\ydata_profiling\\model\\typeset_relations.py:34: FutureWarning: is_categorical_dtype is deprecated and will be removed in a future version. Use isinstance(dtype, CategoricalDtype) instead\n",
      "  if pdt.is_categorical_dtype(series):\n",
      "C:\\Users\\esraa\\envs\\nyc_airbnb_dev\\envs\\mlflow-a82ac904ddd0c1fd22ecadcbd3977e923c26e5c5\\lib\\site-packages\\ydata_profiling\\model\\typeset_relations.py:34: FutureWarning: is_categorical_dtype is deprecated and will be removed in a future version. Use isinstance(dtype, CategoricalDtype) instead\n",
      "  if pdt.is_categorical_dtype(series):\n",
      "C:\\Users\\esraa\\envs\\nyc_airbnb_dev\\envs\\mlflow-a82ac904ddd0c1fd22ecadcbd3977e923c26e5c5\\lib\\site-packages\\ydata_profiling\\model\\typeset_relations.py:34: FutureWarning: is_categorical_dtype is deprecated and will be removed in a future version. Use isinstance(dtype, CategoricalDtype) instead\n",
      "  if pdt.is_categorical_dtype(series):\n",
      "C:\\Users\\esraa\\envs\\nyc_airbnb_dev\\envs\\mlflow-a82ac904ddd0c1fd22ecadcbd3977e923c26e5c5\\lib\\site-packages\\ydata_profiling\\model\\typeset.py:125: FutureWarning: is_categorical_dtype is deprecated and will be removed in a future version. Use isinstance(dtype, CategoricalDtype) instead\n",
      "  not pdt.is_categorical_dtype(series)\n",
      "C:\\Users\\esraa\\envs\\nyc_airbnb_dev\\envs\\mlflow-a82ac904ddd0c1fd22ecadcbd3977e923c26e5c5\\lib\\site-packages\\ydata_profiling\\model\\typeset.py:125: FutureWarning: is_categorical_dtype is deprecated and will be removed in a future version. Use isinstance(dtype, CategoricalDtype) instead\n",
      "  not pdt.is_categorical_dtype(series)\n",
      "C:\\Users\\esraa\\envs\\nyc_airbnb_dev\\envs\\mlflow-a82ac904ddd0c1fd22ecadcbd3977e923c26e5c5\\lib\\site-packages\\ydata_profiling\\model\\typeset.py:125: FutureWarning: is_categorical_dtype is deprecated and will be removed in a future version. Use isinstance(dtype, CategoricalDtype) instead\n",
      "  not pdt.is_categorical_dtype(series)\n",
      "C:\\Users\\esraa\\envs\\nyc_airbnb_dev\\envs\\mlflow-a82ac904ddd0c1fd22ecadcbd3977e923c26e5c5\\lib\\site-packages\\ydata_profiling\\model\\typeset.py:125: FutureWarning: is_categorical_dtype is deprecated and will be removed in a future version. Use isinstance(dtype, CategoricalDtype) instead\n",
      "  not pdt.is_categorical_dtype(series)\n",
      "C:\\Users\\esraa\\envs\\nyc_airbnb_dev\\envs\\mlflow-a82ac904ddd0c1fd22ecadcbd3977e923c26e5c5\\lib\\site-packages\\ydata_profiling\\model\\typeset_relations.py:34: FutureWarning: is_categorical_dtype is deprecated and will be removed in a future version. Use isinstance(dtype, CategoricalDtype) instead\n",
      "  if pdt.is_categorical_dtype(series):\n",
      "C:\\Users\\esraa\\envs\\nyc_airbnb_dev\\envs\\mlflow-a82ac904ddd0c1fd22ecadcbd3977e923c26e5c5\\lib\\site-packages\\ydata_profiling\\model\\typeset.py:125: FutureWarning: is_categorical_dtype is deprecated and will be removed in a future version. Use isinstance(dtype, CategoricalDtype) instead\n",
      "  not pdt.is_categorical_dtype(series)\n",
      "C:\\Users\\esraa\\envs\\nyc_airbnb_dev\\envs\\mlflow-a82ac904ddd0c1fd22ecadcbd3977e923c26e5c5\\lib\\site-packages\\ydata_profiling\\model\\typeset_relations.py:34: FutureWarning: is_categorical_dtype is deprecated and will be removed in a future version. Use isinstance(dtype, CategoricalDtype) instead\n",
      "  if pdt.is_categorical_dtype(series):\n",
      "C:\\Users\\esraa\\envs\\nyc_airbnb_dev\\envs\\mlflow-a82ac904ddd0c1fd22ecadcbd3977e923c26e5c5\\lib\\site-packages\\ydata_profiling\\model\\typeset.py:125: FutureWarning: is_categorical_dtype is deprecated and will be removed in a future version. Use isinstance(dtype, CategoricalDtype) instead\n",
      "  not pdt.is_categorical_dtype(series)\n",
      "C:\\Users\\esraa\\envs\\nyc_airbnb_dev\\envs\\mlflow-a82ac904ddd0c1fd22ecadcbd3977e923c26e5c5\\lib\\site-packages\\ydata_profiling\\model\\typeset.py:125: FutureWarning: is_categorical_dtype is deprecated and will be removed in a future version. Use isinstance(dtype, CategoricalDtype) instead\n",
      "  not pdt.is_categorical_dtype(series)\n",
      "C:\\Users\\esraa\\envs\\nyc_airbnb_dev\\envs\\mlflow-a82ac904ddd0c1fd22ecadcbd3977e923c26e5c5\\lib\\site-packages\\ydata_profiling\\model\\typeset.py:125: FutureWarning: is_categorical_dtype is deprecated and will be removed in a future version. Use isinstance(dtype, CategoricalDtype) instead\n",
      "  not pdt.is_categorical_dtype(series)\n",
      "C:\\Users\\esraa\\envs\\nyc_airbnb_dev\\envs\\mlflow-a82ac904ddd0c1fd22ecadcbd3977e923c26e5c5\\lib\\site-packages\\ydata_profiling\\model\\typeset.py:125: FutureWarning: is_categorical_dtype is deprecated and will be removed in a future version. Use isinstance(dtype, CategoricalDtype) instead\n",
      "  not pdt.is_categorical_dtype(series)\n",
      "C:\\Users\\esraa\\envs\\nyc_airbnb_dev\\envs\\mlflow-a82ac904ddd0c1fd22ecadcbd3977e923c26e5c5\\lib\\site-packages\\ydata_profiling\\model\\typeset_relations.py:34: FutureWarning: is_categorical_dtype is deprecated and will be removed in a future version. Use isinstance(dtype, CategoricalDtype) instead\n",
      "  if pdt.is_categorical_dtype(series):\n",
      "C:\\Users\\esraa\\envs\\nyc_airbnb_dev\\envs\\mlflow-a82ac904ddd0c1fd22ecadcbd3977e923c26e5c5\\lib\\site-packages\\ydata_profiling\\model\\typeset.py:125: FutureWarning: is_categorical_dtype is deprecated and will be removed in a future version. Use isinstance(dtype, CategoricalDtype) instead\n",
      "  not pdt.is_categorical_dtype(series)\n",
      "C:\\Users\\esraa\\envs\\nyc_airbnb_dev\\envs\\mlflow-a82ac904ddd0c1fd22ecadcbd3977e923c26e5c5\\lib\\site-packages\\ydata_profiling\\model\\typeset.py:125: FutureWarning: is_categorical_dtype is deprecated and will be removed in a future version. Use isinstance(dtype, CategoricalDtype) instead\n",
      "  not pdt.is_categorical_dtype(series)\n",
      "C:\\Users\\esraa\\envs\\nyc_airbnb_dev\\envs\\mlflow-a82ac904ddd0c1fd22ecadcbd3977e923c26e5c5\\lib\\site-packages\\ydata_profiling\\model\\typeset_relations.py:34: FutureWarning: is_categorical_dtype is deprecated and will be removed in a future version. Use isinstance(dtype, CategoricalDtype) instead\n",
      "  if pdt.is_categorical_dtype(series):\n",
      "C:\\Users\\esraa\\envs\\nyc_airbnb_dev\\envs\\mlflow-a82ac904ddd0c1fd22ecadcbd3977e923c26e5c5\\lib\\site-packages\\ydata_profiling\\model\\correlations.py:66: UserWarning: There was an attempt to calculate the auto correlation, but this failed.\n",
      "To hide this warning, disable the calculation\n",
      "(using `df.profile_report(correlations={\"auto\": {\"calculate\": False}})`\n",
      "If this is problematic for your use case, please report this as an issue:\n",
      "https://github.com/ydataai/ydata-profiling/issues\n",
      "(include the error message: 'Function <code object pandas_auto_compute at 0x0000029D91EF7AA0, file \"C:\\Users\\esraa\\envs\\nyc_airbnb_dev\\envs\\mlflow-a82ac904ddd0c1fd22ecadcbd3977e923c26e5c5\\lib\\site-packages\\ydata_profiling\\model\\pandas\\correlations_pandas.py\", line 167>')\n",
      "  warnings.warn(\n"
     ]
    },
    {
     "data": {
      "application/vnd.jupyter.widget-view+json": {
       "model_id": "5cd72987ef3d43d69e6780327cca01b5",
       "version_major": 2,
       "version_minor": 0
      },
      "text/plain": [
       "Generate report structure:   0%|          | 0/1 [00:00<?, ?it/s]"
      ]
     },
     "metadata": {},
     "output_type": "display_data"
    },
    {
     "data": {
      "application/vnd.jupyter.widget-view+json": {
       "model_id": "",
       "version_major": 2,
       "version_minor": 0
      },
      "text/plain": [
       "Render widgets:   0%|          | 0/1 [00:00<?, ?it/s]"
      ]
     },
     "metadata": {},
     "output_type": "display_data"
    },
    {
     "data": {
      "application/vnd.jupyter.widget-view+json": {
       "model_id": "ae665892669b4cd8a97a361cbebbe552",
       "version_major": 2,
       "version_minor": 0
      },
      "text/plain": [
       "VBox(children=(Tab(children=(Tab(children=(GridBox(children=(VBox(children=(GridspecLayout(children=(HTML(valu…"
      ]
     },
     "metadata": {},
     "output_type": "display_data"
    }
   ],
   "source": [
    "profile = ProfileReport(df)\n",
    "profile.to_widgets()"
   ]
  },
  {
   "cell_type": "code",
   "execution_count": 4,
   "id": "21e1773d-38d7-4040-8d72-5f380c0191f1",
   "metadata": {},
   "outputs": [],
   "source": [
    "# Drop outliers\n",
    "min_price = 10\n",
    "max_price = 350\n",
    "idx = df['price'].between(min_price, max_price)\n",
    "df = df[idx].copy()\n",
    "# Convert last_review to datetime\n",
    "df['last_review'] = pd.to_datetime(df['last_review'])"
   ]
  },
  {
   "cell_type": "code",
   "execution_count": 5,
   "id": "734cf5f3-818c-4151-ab4b-aa0fce976306",
   "metadata": {
    "scrolled": true
   },
   "outputs": [
    {
     "name": "stdout",
     "output_type": "stream",
     "text": [
      "<class 'pandas.core.frame.DataFrame'>\n",
      "Index: 19001 entries, 0 to 19999\n",
      "Data columns (total 16 columns):\n",
      " #   Column                          Non-Null Count  Dtype         \n",
      "---  ------                          --------------  -----         \n",
      " 0   id                              19001 non-null  int64         \n",
      " 1   name                            18994 non-null  object        \n",
      " 2   host_id                         19001 non-null  int64         \n",
      " 3   host_name                       18993 non-null  object        \n",
      " 4   neighbourhood_group             19001 non-null  object        \n",
      " 5   neighbourhood                   19001 non-null  object        \n",
      " 6   latitude                        19001 non-null  float64       \n",
      " 7   longitude                       19001 non-null  float64       \n",
      " 8   room_type                       19001 non-null  object        \n",
      " 9   price                           19001 non-null  int64         \n",
      " 10  minimum_nights                  19001 non-null  int64         \n",
      " 11  number_of_reviews               19001 non-null  int64         \n",
      " 12  last_review                     15243 non-null  datetime64[ns]\n",
      " 13  reviews_per_month               15243 non-null  float64       \n",
      " 14  calculated_host_listings_count  19001 non-null  int64         \n",
      " 15  availability_365                19001 non-null  int64         \n",
      "dtypes: datetime64[ns](1), float64(3), int64(7), object(5)\n",
      "memory usage: 2.5+ MB\n",
      "None\n"
     ]
    }
   ],
   "source": [
    "print(df.info())"
   ]
  },
  {
   "cell_type": "code",
   "execution_count": 6,
   "id": "a0840940-2a5c-463d-98ee-e9e3b19d68fe",
   "metadata": {},
   "outputs": [
    {
     "data": {
      "application/vnd.jupyter.widget-view+json": {
       "model_id": "",
       "version_major": 2,
       "version_minor": 0
      },
      "text/plain": [
       "VBox(children=(Label(value='0.065 MB of 0.065 MB uploaded\\r'), FloatProgress(value=1.0, max=1.0)))"
      ]
     },
     "metadata": {},
     "output_type": "display_data"
    },
    {
     "data": {
      "text/html": [
       " View run <strong style=\"color:#cdcd00\">ruby-snow-3</strong> at: <a href='https://wandb.ai/israa-kamel811-/nyc_airbnb/runs/tprj2rwe' target=\"_blank\">https://wandb.ai/israa-kamel811-/nyc_airbnb/runs/tprj2rwe</a><br/> View project at: <a href='https://wandb.ai/israa-kamel811-/nyc_airbnb' target=\"_blank\">https://wandb.ai/israa-kamel811-/nyc_airbnb</a><br/>Synced 4 W&B file(s), 0 media file(s), 9 artifact file(s) and 0 other file(s)"
      ],
      "text/plain": [
       "<IPython.core.display.HTML object>"
      ]
     },
     "metadata": {},
     "output_type": "display_data"
    },
    {
     "data": {
      "text/html": [
       "Find logs at: <code>.\\wandb\\run-20240925_150243-tprj2rwe\\logs</code>"
      ],
      "text/plain": [
       "<IPython.core.display.HTML object>"
      ]
     },
     "metadata": {},
     "output_type": "display_data"
    }
   ],
   "source": [
    "run.finish()"
   ]
  }
 ],
 "metadata": {
  "kernelspec": {
   "display_name": "Python 3 (ipykernel)",
   "language": "python",
   "name": "python3"
  },
  "language_info": {
   "codemirror_mode": {
    "name": "ipython",
    "version": 3
   },
   "file_extension": ".py",
   "mimetype": "text/x-python",
   "name": "python",
   "nbconvert_exporter": "python",
   "pygments_lexer": "ipython3",
   "version": "3.10.15"
  }
 },
 "nbformat": 4,
 "nbformat_minor": 5
}
