{
 "cells": [
  {
   "cell_type": "markdown",
   "id": "4e6ff755",
   "metadata": {},
   "source": [
    "# Exploratory Data Analysis (EDA) on NYC Airbnb Dataset\n",
    "In this notebook, we'll be performing an exploratory data analysis on the Airbnb dataset. We will use `wandb` to log our results and `ydata_profiling` for generating data profiles."
   ]
  },
  {
   "cell_type": "markdown",
   "id": "1a1700e0",
   "metadata": {},
   "source": [
    "## 1. Import Required Libraries"
   ]
  },
  {
   "cell_type": "code",
   "execution_count": null,
   "id": "432335de",
   "metadata": {},
   "outputs": [],
   "source": [
    "import wandb\n",
    "import os\n",
    "import warnings\n",
    "import pandas as pd\n",
    "from ydata_profiling import ProfileReport\n",
    "\n",
    "# Ignore warnings for cleaner output\n",
    "warnings.filterwarnings('ignore')"
   ]
  },
  {
   "cell_type": "markdown",
   "id": "979b73e5",
   "metadata": {},
   "source": [
    "## 2. Initialize W&B Run"
   ]
  },
  {
   "cell_type": "code",
   "execution_count": null,
   "id": "e9f6615b",
   "metadata": {},
   "outputs": [],
   "source": [
    "# Start a W&B run to log EDA steps and save code\n",
    "run = wandb.init(project='nyc_airbnb', group='eda', save_code=True)"
   ]
  },
  {
   "cell_type": "markdown",
   "id": "c46c773b",
   "metadata": {},
   "source": [
    "## 3. Download and Load Data"
   ]
  },
  {
   "cell_type": "code",
   "execution_count": null,
   "id": "1aca3949",
   "metadata": {},
   "outputs": [],
   "source": [
    "# Download the latest version of the artifact from W&B and read it\n",
    "local_path = wandb.use_artifact('sample.csv:latest').download()\n",
    "\n",
    "# Load the data into a pandas DataFrame\n",
    "df = pd.read_csv(os.path.join(local_path, 'sample1.csv'))"
   ]
  },
  {
   "cell_type": "markdown",
   "id": "0611c9fd",
   "metadata": {},
   "source": [
    "## 4. Generate Profile Report for Data Overview"
   ]
  },
  {
   "cell_type": "code",
   "execution_count": null,
   "id": "3e2db1bd",
   "metadata": {},
   "outputs": [],
   "source": [
    "# Generate an interactive profile report to explore the dataset\n",
    "profile = ProfileReport(df)\n",
    "profile.to_widgets()"
   ]
  },
  {
   "cell_type": "markdown",
   "id": "9856f669",
   "metadata": {},
   "source": [
    "## 5. Drop Price Outliers"
   ]
  },
  {
   "cell_type": "code",
   "execution_count": null,
   "id": "c737b79e",
   "metadata": {},
   "outputs": [],
   "source": [
    "# Set the minimum and maximum price range to remove outliers\n",
    "min_price = 10\n",
    "max_price = 350\n",
    "\n",
    "# Filter out listings with prices outside the specified range\n",
    "idx = df['price'].between(min_price, max_price)\n",
    "df = df[idx].copy()"
   ]
  },
  {
   "cell_type": "markdown",
   "id": "3e038b79",
   "metadata": {},
   "source": [
    "## 6. Convert `last_review` to Datetime"
   ]
  },
  {
   "cell_type": "code",
   "execution_count": null,
   "id": "883d1855",
   "metadata": {},
   "outputs": [],
   "source": [
    "# Convert 'last_review' column to datetime format\n",
    "df['last_review'] = pd.to_datetime(df['last_review'])\n",
    "\n",
    "# Display the updated profile report after cleaning the data\n",
    "profile.to_widgets()"
   ]
  },
  {
   "cell_type": "markdown",
   "id": "0b3cce74",
   "metadata": {},
   "source": [
    "## 7. Inspect Data"
   ]
  },
  {
   "cell_type": "code",
   "execution_count": null,
   "id": "2e8a1514",
   "metadata": {},
   "outputs": [],
   "source": [
    "# Display basic information about the cleaned dataset\n",
    "print(df.info())"
   ]
  },
  {
   "cell_type": "markdown",
   "id": "10de7048",
   "metadata": {},
   "source": [
    "## 8. Finish W&B Run"
   ]
  },
  {
   "cell_type": "code",
   "execution_count": null,
   "id": "051cc78d",
   "metadata": {},
   "outputs": [],
   "source": [
    "# End the W&B run to log the results\n",
    "run.finish()"
   ]
  }
 ],
 "metadata": {},
 "nbformat": 4,
 "nbformat_minor": 5
}
